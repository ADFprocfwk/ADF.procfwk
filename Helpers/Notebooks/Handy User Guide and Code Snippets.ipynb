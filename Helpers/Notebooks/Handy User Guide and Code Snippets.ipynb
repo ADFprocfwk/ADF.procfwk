{
    "metadata": {
        "kernelspec": {
            "name": "SQL",
            "display_name": "SQL",
            "language": "sql"
        },
        "language_info": {
            "name": "sql",
            "version": ""
        }
    },
    "nbformat_minor": 2,
    "nbformat": 4,
    "cells": [
        {
            "cell_type": "markdown",
            "source": [
                "# Welcome to the ADF.procfwk Handy User Guide Notebook\r\n",
                "\r\n",
                "This Notebook provides a series of short code snippets and narrative to help developers work with the metadata driven processing framework.\r\n",
                "\r\n",
                "\r\n",
                "\r\n",
                "![alt text](https://mrpaulandrew.files.wordpress.com/2020/03/adfprocfwk-icon.png \"ADF.procfwk Icon\")\r\n",
                "\r\n",
                "<span style=\"color:red\">Note: do not just run all cells in this Notebook. This may make unwanted changes to your deployed solution.</span>"
            ],
            "metadata": {
                "azdata_cell_guid": "fc5b873c-deef-4991-a3fb-9bb49b35e3f5"
            }
        },
        {
            "cell_type": "markdown",
            "source": [
                "***\r\n",
                "# Get Current & Previous Execution Details\r\n",
                "\r\n",
                "* The [CurrentExecution] table only contains data for processing runs that our in progress or in an incomplete state.\r\n",
                "\r\n",
                "* The [ExecutionLog] table contains all other log details for execution runs."
            ],
            "metadata": {
                "azdata_cell_guid": "ebe9b419-08cd-4081-b75e-e5e780ce9b6b"
            }
        },
        {
            "cell_type": "code",
            "source": [
                "SELECT * FROM [procfwk].[CurrentExecution];\r\n",
                "\r\n",
                "SELECT * FROM [procfwk].[LastExecution];\r\n",
                "\r\n",
                "SELECT TOP 100 * FROM [procfwk].[ExecutionLog] ORDER BY [LocalExecutionId], [StageId], [PipelineId], [StartDateTime];"
            ],
            "metadata": {
                "azdata_cell_guid": "9fe7882b-f42b-49db-9a86-12eb8165d3c7"
            },
            "outputs": [],
            "execution_count": null
        },
        {
            "cell_type": "markdown",
            "source": [
                "***\r\n",
                "# Review Processing Metadata\r\n",
                "* Data Factory's\r\n",
                "* Stages\r\n",
                "* Pipelines\r\n",
                "* Pipeline Params"
            ],
            "metadata": {
                "azdata_cell_guid": "8e9d8e84-89bb-42f8-ab42-150b01602172"
            }
        },
        {
            "cell_type": "code",
            "source": [
                "SELECT * FROM [procfwk].[DataFactoryDetails];\r\n",
                "\r\n",
                "SELECT * FROM [procfwk].[ProcessingStageDetails];\r\n",
                "\r\n",
                "SELECT * FROM [procfwk].[PipelineProcesses];\r\n",
                "\r\n",
                "SELECT * FROM [procfwk].[PipelineParameters];"
            ],
            "metadata": {
                "azdata_cell_guid": "e5f985ba-d762-450d-8dae-3190642ec922"
            },
            "outputs": [],
            "execution_count": null
        },
        {
            "cell_type": "markdown",
            "source": [
                "***\r\n",
                "# Checking and Adding Framework Properties\r\n",
                "* Use the [CurrentProperties] view to check only the latest version of property values.\r\n",
                "* Use the complete [Properties] table to see all versions of framework properties with valid from and to dates.\r\n",
                "* Use the stored procedure [AddProperty] to add a new property/value or update an existing property/value.\r\n",
                "* Use the stored procedure [GetPropertyValue] to get the latest version of a single property value."
            ],
            "metadata": {
                "azdata_cell_guid": "2dcaa0cf-2ef7-4cb9-95e2-c79d0ea6a721"
            }
        },
        {
            "cell_type": "code",
            "source": [
                "SELECT * FROM [procfwk].[CurrentProperties];\r\n",
                "\r\n",
                "SELECT * FROM [procfwk].[Properties];\r\n",
                "\r\n",
                "EXEC [procfwk].[AddProperty] \r\n",
                "\t@PropertyName = 'TenantId',\r\n",
                "\t@PropertyValue = '1234-1234-1234-1234-1234',\r\n",
                "\t@Description = 'Used to provide authentication throughout the framework execution.';\r\n",
                "\r\n",
                "EXEC [procfwk].[GetPropertyValue]\r\n",
                "\t@PropertyName = N'TenantId';"
            ],
            "metadata": {
                "azdata_cell_guid": "e560c937-3ca4-4cd4-a72d-c7efb109981f"
            },
            "outputs": [],
            "execution_count": null
        },
        {
            "cell_type": "markdown",
            "source": [
                "***\r\n",
                "# Checking and Adding Service Principals"
            ],
            "metadata": {
                "azdata_cell_guid": "d56e37d8-9619-46dd-88bc-2b45890bf3ce"
            }
        },
        {
            "cell_type": "code",
            "source": [
                ""
            ],
            "metadata": {
                "azdata_cell_guid": "24788e85-f491-465f-881b-072cba81addc"
            },
            "outputs": [],
            "execution_count": null
        },
        {
            "cell_type": "markdown",
            "source": [
                "***\r\n",
                "# Resources and Content\r\n",
                "\r\n",
                "<table>\r\n",
                "<tbody>\r\n",
                "<tr>\r\n",
                "<td><img class=\"aligncenter wp-image-1972\" src=\"https://mrpaulandrew.files.wordpress.com/2020/03/azure-square-logo.png?w=150\" alt=\"\" width=\"61\" height=\"61\" /></td>\r\n",
                "<td><strong>Blogs</strong></td>\r\n",
                "<td><a href=\"https://mrpaulandrew.com/category/azure/data-factory/adf-procfwk/\" target=\"_blank\" rel=\"noopener\">mrpaulandrew.com/ADF.procfwk</a></td>\r\n",
                "</tr>\r\n",
                "<tr>\r\n",
                "<td><img class=\"aligncenter wp-image-819\" src=\"https://mrpaulandrew.files.wordpress.com/2018/11/github-icon.png?w=150\" alt=\"\" width=\"61\" height=\"61\" /></td>\r\n",
                "<td><strong>GitHub</strong></td>\r\n",
                "<td><a href=\"https://github.com/mrpaulandrew/ADF.procfwk\" target=\"_blank\" rel=\"noopener\">github.com/mrpaulandrew/ADF.procfwk</a></td>\r\n",
                "</tr>\r\n",
                "<tr>\r\n",
                "<td><img class=\"aligncenter wp-image-1971\" src=\"https://mrpaulandrew.files.wordpress.com/2020/03/twitterlogo.png?w=150\" alt=\"\" width=\"61\" height=\"61\" /></td>\r\n",
                "<td><strong>Twitter</strong></td>\r\n",
                "<td><a href=\"https://twitter.com/search?q=%23ADFprocfwk&amp;src=hashtag_click\" target=\"_blank\" rel=\"noopener\">#ADFprocfwk</a></td>\r\n",
                "</tr>\r\n",
                "</tbody>\r\n",
                "</table>"
            ],
            "metadata": {
                "azdata_cell_guid": "e3d16947-28b3-4a99-a139-ceb2b08ef7eb"
            }
        }
    ]
}